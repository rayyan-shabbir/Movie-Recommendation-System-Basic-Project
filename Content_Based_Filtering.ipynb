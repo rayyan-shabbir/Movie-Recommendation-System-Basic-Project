{
 "cells": [
  {
   "cell_type": "markdown",
   "id": "c69b202c-984d-4156-90ad-161822b10637",
   "metadata": {},
   "source": [
    "# Content Based Filtering"
   ]
  },
  {
   "cell_type": "code",
   "execution_count": 42,
   "id": "b9dff1e1-3451-4098-93fa-dc0c2531e3a7",
   "metadata": {},
   "outputs": [],
   "source": [
    "import pandas"
   ]
  },
  {
   "cell_type": "code",
   "execution_count": 43,
   "id": "eb021a5f-399b-4a46-891d-7e6a2b6c3ea8",
   "metadata": {},
   "outputs": [],
   "source": [
    "movies = pandas.read_csv(\"movies_small.csv\", sep=\";\")"
   ]
  },
  {
   "cell_type": "code",
   "execution_count": 44,
   "id": "b833d845-cb82-44f1-a0ce-b0d4c445cc9e",
   "metadata": {},
   "outputs": [
    {
     "data": {
      "text/html": [
       "<div>\n",
       "<style scoped>\n",
       "    .dataframe tbody tr th:only-of-type {\n",
       "        vertical-align: middle;\n",
       "    }\n",
       "\n",
       "    .dataframe tbody tr th {\n",
       "        vertical-align: top;\n",
       "    }\n",
       "\n",
       "    .dataframe thead th {\n",
       "        text-align: right;\n",
       "    }\n",
       "</style>\n",
       "<table border=\"1\" class=\"dataframe\">\n",
       "  <thead>\n",
       "    <tr style=\"text-align: right;\">\n",
       "      <th></th>\n",
       "      <th>budget</th>\n",
       "      <th>genres</th>\n",
       "      <th>homepage</th>\n",
       "      <th>id</th>\n",
       "      <th>keywords</th>\n",
       "      <th>original_language</th>\n",
       "      <th>original_title</th>\n",
       "      <th>overview</th>\n",
       "      <th>popularity</th>\n",
       "      <th>production_companies</th>\n",
       "      <th>production_countries</th>\n",
       "      <th>release_date</th>\n",
       "      <th>revenue</th>\n",
       "      <th>runtime</th>\n",
       "      <th>spoken_languages</th>\n",
       "      <th>status</th>\n",
       "      <th>tagline</th>\n",
       "      <th>title</th>\n",
       "      <th>vote_average</th>\n",
       "      <th>vote_count</th>\n",
       "    </tr>\n",
       "  </thead>\n",
       "  <tbody>\n",
       "    <tr>\n",
       "      <th>0</th>\n",
       "      <td>190000000</td>\n",
       "      <td>[{\"id\": 28, \"name\": \"Action\"}]</td>\n",
       "      <td>http://www.furious7.com/</td>\n",
       "      <td>168259</td>\n",
       "      <td>[{\"id\": 830, \"name\": \"car race\"}, {\"id\": 3428,...</td>\n",
       "      <td>en</td>\n",
       "      <td>Furious 7</td>\n",
       "      <td>Deckard Shaw seeks revenge against Dominic Tor...</td>\n",
       "      <td>102.322217</td>\n",
       "      <td>[{\"name\": \"Universal Pictures\", \"id\": 33}, {\"n...</td>\n",
       "      <td>[{\"iso_3166_1\": \"JP\", \"name\": \"Japan\"}, {\"iso_...</td>\n",
       "      <td>2015-04-01</td>\n",
       "      <td>1506249360</td>\n",
       "      <td>137</td>\n",
       "      <td>[{\"iso_639_1\": \"en\", \"name\": \"English\"}]</td>\n",
       "      <td>Released</td>\n",
       "      <td>Vengeance Hits Home</td>\n",
       "      <td>Furious 7</td>\n",
       "      <td>7.3</td>\n",
       "      <td>4176</td>\n",
       "    </tr>\n",
       "    <tr>\n",
       "      <th>1</th>\n",
       "      <td>200000000</td>\n",
       "      <td>[{\"id\": 16, \"name\": \"Animation\"}, {\"id\": 10751...</td>\n",
       "      <td>http://www.disney.go.com/cars/</td>\n",
       "      <td>49013</td>\n",
       "      <td>[{\"id\": 830, \"name\": \"car race\"}, {\"id\": 9663,...</td>\n",
       "      <td>en</td>\n",
       "      <td>Cars 2</td>\n",
       "      <td>Star race car Lightning McQueen and his pal Ma...</td>\n",
       "      <td>49.986590</td>\n",
       "      <td>[{\"name\": \"Walt Disney Pictures\", \"id\": 2}, {\"...</td>\n",
       "      <td>[{\"iso_3166_1\": \"US\", \"name\": \"United States o...</td>\n",
       "      <td>2011-06-11</td>\n",
       "      <td>559852396</td>\n",
       "      <td>106</td>\n",
       "      <td>[{\"iso_639_1\": \"en\", \"name\": \"English\"}, {\"iso...</td>\n",
       "      <td>Released</td>\n",
       "      <td>Ka-ciao!</td>\n",
       "      <td>Cars 2</td>\n",
       "      <td>5.8</td>\n",
       "      <td>2033</td>\n",
       "    </tr>\n",
       "    <tr>\n",
       "      <th>2</th>\n",
       "      <td>170000000</td>\n",
       "      <td>[{\"id\": 28, \"name\": \"Action\"}, {\"id\": 878, \"na...</td>\n",
       "      <td>http://marvel.com/guardians</td>\n",
       "      <td>118340</td>\n",
       "      <td>[{\"id\": 8828, \"name\": \"marvel comic\"}, {\"id\": ...</td>\n",
       "      <td>en</td>\n",
       "      <td>Guardians of the Galaxy</td>\n",
       "      <td>Light years from Earth, 26 years after being a...</td>\n",
       "      <td>481.098624</td>\n",
       "      <td>[{\"name\": \"Marvel Studios\", \"id\": 420}, {\"name...</td>\n",
       "      <td>[{\"iso_3166_1\": \"GB\", \"name\": \"United Kingdom\"...</td>\n",
       "      <td>2014-07-30</td>\n",
       "      <td>773328629</td>\n",
       "      <td>121</td>\n",
       "      <td>[{\"iso_639_1\": \"en\", \"name\": \"English\"}]</td>\n",
       "      <td>Released</td>\n",
       "      <td>All heroes start somewhere.</td>\n",
       "      <td>Guardians of the Galaxy</td>\n",
       "      <td>7.9</td>\n",
       "      <td>9742</td>\n",
       "    </tr>\n",
       "    <tr>\n",
       "      <th>3</th>\n",
       "      <td>145000000</td>\n",
       "      <td>[{\"id\": 28, \"name\": \"Action\"}, {\"id\": 12, \"nam...</td>\n",
       "      <td>http://www.kungfupanda.com/</td>\n",
       "      <td>140300</td>\n",
       "      <td>[{\"id\": 478, \"name\": \"china\"}, {\"id\": 779, \"na...</td>\n",
       "      <td>en</td>\n",
       "      <td>Kung Fu Panda 3</td>\n",
       "      <td>Continuing his \"legendary adventures of awesom...</td>\n",
       "      <td>56.747978</td>\n",
       "      <td>[{\"name\": \"Twentieth Century Fox Film Corporat...</td>\n",
       "      <td>[{\"iso_3166_1\": \"CN\", \"name\": \"China\"}, {\"iso_...</td>\n",
       "      <td>2016-01-23</td>\n",
       "      <td>521170825</td>\n",
       "      <td>95</td>\n",
       "      <td>[{\"iso_639_1\": \"en\", \"name\": \"English\"}]</td>\n",
       "      <td>Released</td>\n",
       "      <td>Grab destiny by the rice dumplings.</td>\n",
       "      <td>Kung Fu Panda 3</td>\n",
       "      <td>6.7</td>\n",
       "      <td>1603</td>\n",
       "    </tr>\n",
       "    <tr>\n",
       "      <th>4</th>\n",
       "      <td>250000000</td>\n",
       "      <td>[{\"id\": 28, \"name\": \"Action\"}, {\"id\": 80, \"nam...</td>\n",
       "      <td>http://www.thedarkknightrises.com/</td>\n",
       "      <td>49026</td>\n",
       "      <td>[{\"id\": 849, \"name\": \"dc comics\"}, {\"id\": 853,...</td>\n",
       "      <td>en</td>\n",
       "      <td>The Dark Knight Rises</td>\n",
       "      <td>Following the death of District Attorney Harve...</td>\n",
       "      <td>112.312950</td>\n",
       "      <td>[{\"name\": \"Legendary Pictures\", \"id\": 923}, {\"...</td>\n",
       "      <td>[{\"iso_3166_1\": \"US\", \"name\": \"United States o...</td>\n",
       "      <td>2012-07-16</td>\n",
       "      <td>1084939099</td>\n",
       "      <td>165</td>\n",
       "      <td>[{\"iso_639_1\": \"en\", \"name\": \"English\"}]</td>\n",
       "      <td>Released</td>\n",
       "      <td>The Legend Ends</td>\n",
       "      <td>The Dark Knight Rises</td>\n",
       "      <td>7.6</td>\n",
       "      <td>9106</td>\n",
       "    </tr>\n",
       "    <tr>\n",
       "      <th>5</th>\n",
       "      <td>260000000</td>\n",
       "      <td>[{\"id\": 28, \"name\": \"Action\"}, {\"id\": 12, \"nam...</td>\n",
       "      <td>http://movies.disney.com/john-carter</td>\n",
       "      <td>49529</td>\n",
       "      <td>[{\"id\": 818, \"name\": \"based on novel\"}, {\"id\":...</td>\n",
       "      <td>en</td>\n",
       "      <td>John Carter</td>\n",
       "      <td>John Carter is a war-weary, former military ca...</td>\n",
       "      <td>43.926995</td>\n",
       "      <td>[{\"name\": \"Walt Disney Pictures\", \"id\": 2}]</td>\n",
       "      <td>[{\"iso_3166_1\": \"US\", \"name\": \"United States o...</td>\n",
       "      <td>2012-03-07</td>\n",
       "      <td>284139100</td>\n",
       "      <td>132</td>\n",
       "      <td>[{\"iso_639_1\": \"en\", \"name\": \"English\"}]</td>\n",
       "      <td>Released</td>\n",
       "      <td>Lost in our world, found in another.</td>\n",
       "      <td>John Carter</td>\n",
       "      <td>6.1</td>\n",
       "      <td>2124</td>\n",
       "    </tr>\n",
       "  </tbody>\n",
       "</table>\n",
       "</div>"
      ],
      "text/plain": [
       "      budget                                             genres  \\\n",
       "0  190000000                     [{\"id\": 28, \"name\": \"Action\"}]   \n",
       "1  200000000  [{\"id\": 16, \"name\": \"Animation\"}, {\"id\": 10751...   \n",
       "2  170000000  [{\"id\": 28, \"name\": \"Action\"}, {\"id\": 878, \"na...   \n",
       "3  145000000  [{\"id\": 28, \"name\": \"Action\"}, {\"id\": 12, \"nam...   \n",
       "4  250000000  [{\"id\": 28, \"name\": \"Action\"}, {\"id\": 80, \"nam...   \n",
       "5  260000000  [{\"id\": 28, \"name\": \"Action\"}, {\"id\": 12, \"nam...   \n",
       "\n",
       "                               homepage      id  \\\n",
       "0              http://www.furious7.com/  168259   \n",
       "1        http://www.disney.go.com/cars/   49013   \n",
       "2           http://marvel.com/guardians  118340   \n",
       "3           http://www.kungfupanda.com/  140300   \n",
       "4    http://www.thedarkknightrises.com/   49026   \n",
       "5  http://movies.disney.com/john-carter   49529   \n",
       "\n",
       "                                            keywords original_language  \\\n",
       "0  [{\"id\": 830, \"name\": \"car race\"}, {\"id\": 3428,...                en   \n",
       "1  [{\"id\": 830, \"name\": \"car race\"}, {\"id\": 9663,...                en   \n",
       "2  [{\"id\": 8828, \"name\": \"marvel comic\"}, {\"id\": ...                en   \n",
       "3  [{\"id\": 478, \"name\": \"china\"}, {\"id\": 779, \"na...                en   \n",
       "4  [{\"id\": 849, \"name\": \"dc comics\"}, {\"id\": 853,...                en   \n",
       "5  [{\"id\": 818, \"name\": \"based on novel\"}, {\"id\":...                en   \n",
       "\n",
       "            original_title                                           overview  \\\n",
       "0                Furious 7  Deckard Shaw seeks revenge against Dominic Tor...   \n",
       "1                   Cars 2  Star race car Lightning McQueen and his pal Ma...   \n",
       "2  Guardians of the Galaxy  Light years from Earth, 26 years after being a...   \n",
       "3          Kung Fu Panda 3  Continuing his \"legendary adventures of awesom...   \n",
       "4    The Dark Knight Rises  Following the death of District Attorney Harve...   \n",
       "5              John Carter  John Carter is a war-weary, former military ca...   \n",
       "\n",
       "   popularity                               production_companies  \\\n",
       "0  102.322217  [{\"name\": \"Universal Pictures\", \"id\": 33}, {\"n...   \n",
       "1   49.986590  [{\"name\": \"Walt Disney Pictures\", \"id\": 2}, {\"...   \n",
       "2  481.098624  [{\"name\": \"Marvel Studios\", \"id\": 420}, {\"name...   \n",
       "3   56.747978  [{\"name\": \"Twentieth Century Fox Film Corporat...   \n",
       "4  112.312950  [{\"name\": \"Legendary Pictures\", \"id\": 923}, {\"...   \n",
       "5   43.926995        [{\"name\": \"Walt Disney Pictures\", \"id\": 2}]   \n",
       "\n",
       "                                production_countries release_date     revenue  \\\n",
       "0  [{\"iso_3166_1\": \"JP\", \"name\": \"Japan\"}, {\"iso_...   2015-04-01  1506249360   \n",
       "1  [{\"iso_3166_1\": \"US\", \"name\": \"United States o...   2011-06-11   559852396   \n",
       "2  [{\"iso_3166_1\": \"GB\", \"name\": \"United Kingdom\"...   2014-07-30   773328629   \n",
       "3  [{\"iso_3166_1\": \"CN\", \"name\": \"China\"}, {\"iso_...   2016-01-23   521170825   \n",
       "4  [{\"iso_3166_1\": \"US\", \"name\": \"United States o...   2012-07-16  1084939099   \n",
       "5  [{\"iso_3166_1\": \"US\", \"name\": \"United States o...   2012-03-07   284139100   \n",
       "\n",
       "   runtime                                   spoken_languages    status  \\\n",
       "0      137           [{\"iso_639_1\": \"en\", \"name\": \"English\"}]  Released   \n",
       "1      106  [{\"iso_639_1\": \"en\", \"name\": \"English\"}, {\"iso...  Released   \n",
       "2      121           [{\"iso_639_1\": \"en\", \"name\": \"English\"}]  Released   \n",
       "3       95           [{\"iso_639_1\": \"en\", \"name\": \"English\"}]  Released   \n",
       "4      165           [{\"iso_639_1\": \"en\", \"name\": \"English\"}]  Released   \n",
       "5      132           [{\"iso_639_1\": \"en\", \"name\": \"English\"}]  Released   \n",
       "\n",
       "                                tagline                    title  \\\n",
       "0                   Vengeance Hits Home                Furious 7   \n",
       "1                              Ka-ciao!                   Cars 2   \n",
       "2           All heroes start somewhere.  Guardians of the Galaxy   \n",
       "3   Grab destiny by the rice dumplings.          Kung Fu Panda 3   \n",
       "4                       The Legend Ends    The Dark Knight Rises   \n",
       "5  Lost in our world, found in another.              John Carter   \n",
       "\n",
       "   vote_average  vote_count  \n",
       "0           7.3        4176  \n",
       "1           5.8        2033  \n",
       "2           7.9        9742  \n",
       "3           6.7        1603  \n",
       "4           7.6        9106  \n",
       "5           6.1        2124  "
      ]
     },
     "execution_count": 44,
     "metadata": {},
     "output_type": "execute_result"
    }
   ],
   "source": [
    "movies"
   ]
  },
  {
   "cell_type": "code",
   "execution_count": 45,
   "id": "5873cf86-ed24-4655-9475-836293e6a9cd",
   "metadata": {},
   "outputs": [
    {
     "name": "stdout",
     "output_type": "stream",
     "text": [
      "Defaulting to user installation because normal site-packages is not writeable\n",
      "Requirement already satisfied: scikit-learn in c:\\users\\rayyan.shabbir\\appdata\\roaming\\python\\python39\\site-packages (1.5.1)\n",
      "Requirement already satisfied: numpy>=1.19.5 in c:\\users\\rayyan.shabbir\\appdata\\roaming\\python\\python39\\site-packages (from scikit-learn) (1.25.2)\n",
      "Requirement already satisfied: scipy>=1.6.0 in c:\\users\\rayyan.shabbir\\appdata\\roaming\\python\\python39\\site-packages (from scikit-learn) (1.9.3)\n",
      "Requirement already satisfied: joblib>=1.2.0 in c:\\users\\rayyan.shabbir\\appdata\\roaming\\python\\python39\\site-packages (from scikit-learn) (1.4.2)\n",
      "Requirement already satisfied: threadpoolctl>=3.1.0 in c:\\users\\rayyan.shabbir\\appdata\\roaming\\python\\python39\\site-packages (from scikit-learn) (3.5.0)\n"
     ]
    },
    {
     "name": "stderr",
     "output_type": "stream",
     "text": [
      "\n",
      "[notice] A new release of pip is available: 24.1.2 -> 24.2\n",
      "[notice] To update, run: python.exe -m pip install --upgrade pip\n"
     ]
    }
   ],
   "source": [
    "!pip install scikit-learn"
   ]
  },
  {
   "cell_type": "code",
   "execution_count": 46,
   "id": "d3f09424-8689-4eb8-b1e6-423d2135c304",
   "metadata": {},
   "outputs": [],
   "source": [
    "from sklearn.feature_extraction.text import TfidfVectorizer"
   ]
  },
  {
   "cell_type": "code",
   "execution_count": 47,
   "id": "dadb1645-7303-496d-ad32-81afb5a9703f",
   "metadata": {},
   "outputs": [],
   "source": [
    "tfidf = TfidfVectorizer(stop_words=\"english\")\n",
    "movies[\"overview\"] = movies[\"overview\"].fillna(\"\")"
   ]
  },
  {
   "cell_type": "code",
   "execution_count": 48,
   "id": "c430ec6f-6056-436b-a400-4ce9bc958d3c",
   "metadata": {},
   "outputs": [
    {
     "data": {
      "text/plain": [
       "0    Deckard Shaw seeks revenge against Dominic Tor...\n",
       "1    Star race car Lightning McQueen and his pal Ma...\n",
       "2    Light years from Earth, 26 years after being a...\n",
       "3    Continuing his \"legendary adventures of awesom...\n",
       "4    Following the death of District Attorney Harve...\n",
       "5    John Carter is a war-weary, former military ca...\n",
       "Name: overview, dtype: object"
      ]
     },
     "execution_count": 48,
     "metadata": {},
     "output_type": "execute_result"
    }
   ],
   "source": [
    "movies[\"overview\"]"
   ]
  },
  {
   "cell_type": "code",
   "execution_count": 49,
   "id": "1539b392-3158-4898-8894-a753e110a5e1",
   "metadata": {},
   "outputs": [],
   "source": [
    "tfidf_matrix = tfidf.fit_transform(movies[\"overview\"])"
   ]
  },
  {
   "cell_type": "code",
   "execution_count": 50,
   "id": "66d0f0ec-e118-49f0-a433-3a19431d0a5f",
   "metadata": {},
   "outputs": [
    {
     "data": {
      "text/html": [
       "<div>\n",
       "<style scoped>\n",
       "    .dataframe tbody tr th:only-of-type {\n",
       "        vertical-align: middle;\n",
       "    }\n",
       "\n",
       "    .dataframe tbody tr th {\n",
       "        vertical-align: top;\n",
       "    }\n",
       "\n",
       "    .dataframe thead th {\n",
       "        text-align: right;\n",
       "    }\n",
       "</style>\n",
       "<table border=\"1\" class=\"dataframe\">\n",
       "  <thead>\n",
       "    <tr style=\"text-align: right;\">\n",
       "      <th></th>\n",
       "      <th>26</th>\n",
       "      <th>abducted</th>\n",
       "      <th>accuser</th>\n",
       "      <th>adventure</th>\n",
       "      <th>adventures</th>\n",
       "      <th>assumes</th>\n",
       "      <th>attorney</th>\n",
       "      <th>awesomeness</th>\n",
       "      <th>bane</th>\n",
       "      <th>barsoom</th>\n",
       "      <th>...</th>\n",
       "      <th>terrorist</th>\n",
       "      <th>threats</th>\n",
       "      <th>toretto</th>\n",
       "      <th>transported</th>\n",
       "      <th>villainous</th>\n",
       "      <th>wanted</th>\n",
       "      <th>war</th>\n",
       "      <th>weary</th>\n",
       "      <th>world</th>\n",
       "      <th>years</th>\n",
       "    </tr>\n",
       "  </thead>\n",
       "  <tbody>\n",
       "    <tr>\n",
       "      <th>0</th>\n",
       "      <td>0.000000</td>\n",
       "      <td>0.000000</td>\n",
       "      <td>0.000000</td>\n",
       "      <td>0.000000</td>\n",
       "      <td>0.000000</td>\n",
       "      <td>0.00000</td>\n",
       "      <td>0.000000</td>\n",
       "      <td>0.000000</td>\n",
       "      <td>0.00000</td>\n",
       "      <td>0.000000</td>\n",
       "      <td>...</td>\n",
       "      <td>0.00000</td>\n",
       "      <td>0.000000</td>\n",
       "      <td>0.333333</td>\n",
       "      <td>0.000000</td>\n",
       "      <td>0.00000</td>\n",
       "      <td>0.000000</td>\n",
       "      <td>0.000000</td>\n",
       "      <td>0.000000</td>\n",
       "      <td>0.000000</td>\n",
       "      <td>0.000000</td>\n",
       "    </tr>\n",
       "    <tr>\n",
       "      <th>1</th>\n",
       "      <td>0.000000</td>\n",
       "      <td>0.000000</td>\n",
       "      <td>0.000000</td>\n",
       "      <td>0.190097</td>\n",
       "      <td>0.000000</td>\n",
       "      <td>0.00000</td>\n",
       "      <td>0.000000</td>\n",
       "      <td>0.000000</td>\n",
       "      <td>0.00000</td>\n",
       "      <td>0.000000</td>\n",
       "      <td>...</td>\n",
       "      <td>0.00000</td>\n",
       "      <td>0.000000</td>\n",
       "      <td>0.000000</td>\n",
       "      <td>0.000000</td>\n",
       "      <td>0.00000</td>\n",
       "      <td>0.000000</td>\n",
       "      <td>0.000000</td>\n",
       "      <td>0.000000</td>\n",
       "      <td>0.155883</td>\n",
       "      <td>0.000000</td>\n",
       "    </tr>\n",
       "    <tr>\n",
       "      <th>2</th>\n",
       "      <td>0.237761</td>\n",
       "      <td>0.237761</td>\n",
       "      <td>0.237761</td>\n",
       "      <td>0.000000</td>\n",
       "      <td>0.000000</td>\n",
       "      <td>0.00000</td>\n",
       "      <td>0.000000</td>\n",
       "      <td>0.000000</td>\n",
       "      <td>0.00000</td>\n",
       "      <td>0.000000</td>\n",
       "      <td>...</td>\n",
       "      <td>0.00000</td>\n",
       "      <td>0.000000</td>\n",
       "      <td>0.000000</td>\n",
       "      <td>0.000000</td>\n",
       "      <td>0.00000</td>\n",
       "      <td>0.237761</td>\n",
       "      <td>0.000000</td>\n",
       "      <td>0.000000</td>\n",
       "      <td>0.000000</td>\n",
       "      <td>0.389934</td>\n",
       "    </tr>\n",
       "    <tr>\n",
       "      <th>3</th>\n",
       "      <td>0.000000</td>\n",
       "      <td>0.000000</td>\n",
       "      <td>0.000000</td>\n",
       "      <td>0.000000</td>\n",
       "      <td>0.270444</td>\n",
       "      <td>0.00000</td>\n",
       "      <td>0.000000</td>\n",
       "      <td>0.270444</td>\n",
       "      <td>0.00000</td>\n",
       "      <td>0.000000</td>\n",
       "      <td>...</td>\n",
       "      <td>0.00000</td>\n",
       "      <td>0.270444</td>\n",
       "      <td>0.000000</td>\n",
       "      <td>0.000000</td>\n",
       "      <td>0.00000</td>\n",
       "      <td>0.000000</td>\n",
       "      <td>0.000000</td>\n",
       "      <td>0.000000</td>\n",
       "      <td>0.000000</td>\n",
       "      <td>0.000000</td>\n",
       "    </tr>\n",
       "    <tr>\n",
       "      <th>4</th>\n",
       "      <td>0.000000</td>\n",
       "      <td>0.000000</td>\n",
       "      <td>0.000000</td>\n",
       "      <td>0.000000</td>\n",
       "      <td>0.000000</td>\n",
       "      <td>0.13565</td>\n",
       "      <td>0.271301</td>\n",
       "      <td>0.000000</td>\n",
       "      <td>0.13565</td>\n",
       "      <td>0.000000</td>\n",
       "      <td>...</td>\n",
       "      <td>0.13565</td>\n",
       "      <td>0.000000</td>\n",
       "      <td>0.000000</td>\n",
       "      <td>0.000000</td>\n",
       "      <td>0.13565</td>\n",
       "      <td>0.000000</td>\n",
       "      <td>0.000000</td>\n",
       "      <td>0.000000</td>\n",
       "      <td>0.000000</td>\n",
       "      <td>0.111235</td>\n",
       "    </tr>\n",
       "    <tr>\n",
       "      <th>5</th>\n",
       "      <td>0.000000</td>\n",
       "      <td>0.000000</td>\n",
       "      <td>0.000000</td>\n",
       "      <td>0.000000</td>\n",
       "      <td>0.000000</td>\n",
       "      <td>0.00000</td>\n",
       "      <td>0.000000</td>\n",
       "      <td>0.000000</td>\n",
       "      <td>0.00000</td>\n",
       "      <td>0.353458</td>\n",
       "      <td>...</td>\n",
       "      <td>0.00000</td>\n",
       "      <td>0.000000</td>\n",
       "      <td>0.000000</td>\n",
       "      <td>0.176729</td>\n",
       "      <td>0.00000</td>\n",
       "      <td>0.000000</td>\n",
       "      <td>0.176729</td>\n",
       "      <td>0.176729</td>\n",
       "      <td>0.144920</td>\n",
       "      <td>0.000000</td>\n",
       "    </tr>\n",
       "  </tbody>\n",
       "</table>\n",
       "<p>6 rows × 121 columns</p>\n",
       "</div>"
      ],
      "text/plain": [
       "         26  abducted   accuser  adventure  adventures  assumes  attorney  \\\n",
       "0  0.000000  0.000000  0.000000   0.000000    0.000000  0.00000  0.000000   \n",
       "1  0.000000  0.000000  0.000000   0.190097    0.000000  0.00000  0.000000   \n",
       "2  0.237761  0.237761  0.237761   0.000000    0.000000  0.00000  0.000000   \n",
       "3  0.000000  0.000000  0.000000   0.000000    0.270444  0.00000  0.000000   \n",
       "4  0.000000  0.000000  0.000000   0.000000    0.000000  0.13565  0.271301   \n",
       "5  0.000000  0.000000  0.000000   0.000000    0.000000  0.00000  0.000000   \n",
       "\n",
       "   awesomeness     bane   barsoom  ...  terrorist   threats   toretto  \\\n",
       "0     0.000000  0.00000  0.000000  ...    0.00000  0.000000  0.333333   \n",
       "1     0.000000  0.00000  0.000000  ...    0.00000  0.000000  0.000000   \n",
       "2     0.000000  0.00000  0.000000  ...    0.00000  0.000000  0.000000   \n",
       "3     0.270444  0.00000  0.000000  ...    0.00000  0.270444  0.000000   \n",
       "4     0.000000  0.13565  0.000000  ...    0.13565  0.000000  0.000000   \n",
       "5     0.000000  0.00000  0.353458  ...    0.00000  0.000000  0.000000   \n",
       "\n",
       "   transported  villainous    wanted       war     weary     world     years  \n",
       "0     0.000000     0.00000  0.000000  0.000000  0.000000  0.000000  0.000000  \n",
       "1     0.000000     0.00000  0.000000  0.000000  0.000000  0.155883  0.000000  \n",
       "2     0.000000     0.00000  0.237761  0.000000  0.000000  0.000000  0.389934  \n",
       "3     0.000000     0.00000  0.000000  0.000000  0.000000  0.000000  0.000000  \n",
       "4     0.000000     0.13565  0.000000  0.000000  0.000000  0.000000  0.111235  \n",
       "5     0.176729     0.00000  0.000000  0.176729  0.176729  0.144920  0.000000  \n",
       "\n",
       "[6 rows x 121 columns]"
      ]
     },
     "execution_count": 50,
     "metadata": {},
     "output_type": "execute_result"
    }
   ],
   "source": [
    "pandas.DataFrame(tfidf_matrix.toarray(), columns=tfidf.get_feature_names_out())"
   ]
  },
  {
   "cell_type": "code",
   "execution_count": 51,
   "id": "e8edadfc-e9ea-4e18-86df-181c0460544f",
   "metadata": {},
   "outputs": [
    {
     "data": {
      "text/plain": [
       "(6, 121)"
      ]
     },
     "execution_count": 51,
     "metadata": {},
     "output_type": "execute_result"
    }
   ],
   "source": [
    "tfidf_matrix.shape"
   ]
  },
  {
   "cell_type": "markdown",
   "id": "ca73eadd-293d-4148-975d-5885a0cb550c",
   "metadata": {},
   "source": [
    "# Similarity Matrix"
   ]
  },
  {
   "cell_type": "code",
   "execution_count": 52,
   "id": "45147bb6-a2ff-4f7a-afd2-c0a42bb48e08",
   "metadata": {},
   "outputs": [],
   "source": [
    "from sklearn.metrics.pairwise import linear_kernel"
   ]
  },
  {
   "cell_type": "code",
   "execution_count": 53,
   "id": "9fccf77e-b20f-4673-98fa-b8f6e186e626",
   "metadata": {},
   "outputs": [],
   "source": [
    "similarity_matrix = linear_kernel(tfidf_matrix, tfidf_matrix)"
   ]
  },
  {
   "cell_type": "code",
   "execution_count": 54,
   "id": "4f050130-b941-4a4e-aad5-dfcb83d58a36",
   "metadata": {},
   "outputs": [
    {
     "data": {
      "text/plain": [
       "array([[1.        , 0.        , 0.        , 0.        , 0.        ,\n",
       "        0.        ],\n",
       "       [0.        , 1.        , 0.        , 0.        , 0.        ,\n",
       "        0.02259057],\n",
       "       [0.        , 0.        , 1.        , 0.        , 0.0433744 ,\n",
       "        0.        ],\n",
       "       [0.        , 0.        , 0.        , 1.        , 0.        ,\n",
       "        0.03213867],\n",
       "       [0.        , 0.        , 0.0433744 , 0.        , 1.        ,\n",
       "        0.01612024],\n",
       "       [0.        , 0.02259057, 0.        , 0.03213867, 0.01612024,\n",
       "        1.        ]])"
      ]
     },
     "execution_count": 54,
     "metadata": {},
     "output_type": "execute_result"
    }
   ],
   "source": [
    "similarity_matrix"
   ]
  },
  {
   "cell_type": "code",
   "execution_count": 55,
   "id": "f4eb4447-9d14-416c-ae09-0ac1f709a8b4",
   "metadata": {},
   "outputs": [
    {
     "data": {
      "text/plain": [
       "(6, 6)"
      ]
     },
     "execution_count": 55,
     "metadata": {},
     "output_type": "execute_result"
    }
   ],
   "source": [
    "similarity_matrix.shape"
   ]
  },
  {
   "cell_type": "markdown",
   "id": "d361551f-0b01-4662-b98a-3ae5993831e0",
   "metadata": {},
   "source": [
    "# Find the most similar movies to a certain movie"
   ]
  },
  {
   "cell_type": "code",
   "execution_count": 56,
   "id": "9592bb7f-96bf-4357-b1a7-aa4b201bd709",
   "metadata": {},
   "outputs": [],
   "source": [
    "movie_title = \"John Carter\" "
   ]
  },
  {
   "cell_type": "code",
   "execution_count": 57,
   "id": "7753a960-c1a8-476c-a257-3fd7f2a40dcd",
   "metadata": {},
   "outputs": [],
   "source": [
    "idx = movies.loc[movies[\"title\"] == movie_title].index[0]"
   ]
  },
  {
   "cell_type": "code",
   "execution_count": 59,
   "id": "a3aeb9bb-60d2-46f4-8d08-802b61e813ef",
   "metadata": {},
   "outputs": [
    {
     "data": {
      "text/plain": [
       "[(0, 0.0),\n",
       " (1, 0.02259056579532686),\n",
       " (2, 0.0),\n",
       " (3, 0.032138674066915646),\n",
       " (4, 0.016120240648257757),\n",
       " (5, 1.0000000000000007)]"
      ]
     },
     "execution_count": 59,
     "metadata": {},
     "output_type": "execute_result"
    }
   ],
   "source": [
    "scores = list(enumerate(similarity_matrix[idx]))\n",
    "scores"
   ]
  },
  {
   "cell_type": "code",
   "execution_count": 61,
   "id": "9a5bacfb-d616-4568-9f5e-ac9db3801e1a",
   "metadata": {},
   "outputs": [],
   "source": [
    "scores = sorted(scores, key=lambda x : x[1], reverse=True)"
   ]
  },
  {
   "cell_type": "code",
   "execution_count": 62,
   "id": "04d5240a-466e-4708-9749-e432fd855745",
   "metadata": {},
   "outputs": [
    {
     "data": {
      "text/plain": [
       "[(5, 1.0000000000000007),\n",
       " (3, 0.032138674066915646),\n",
       " (1, 0.02259056579532686),\n",
       " (4, 0.016120240648257757),\n",
       " (0, 0.0),\n",
       " (2, 0.0)]"
      ]
     },
     "execution_count": 62,
     "metadata": {},
     "output_type": "execute_result"
    }
   ],
   "source": [
    "scores "
   ]
  },
  {
   "cell_type": "code",
   "execution_count": 63,
   "id": "d5706273-e817-4aaa-bb6c-784fbb1b0e09",
   "metadata": {},
   "outputs": [],
   "source": [
    "movies_indices = [tpl[0] for tpl in scores[1:4]]"
   ]
  },
  {
   "cell_type": "code",
   "execution_count": 65,
   "id": "078a6778-1956-4d9d-b5e8-5fcf0c502ba1",
   "metadata": {},
   "outputs": [
    {
     "data": {
      "text/plain": [
       "['Kung Fu Panda 3', 'Cars 2', 'The Dark Knight Rises']"
      ]
     },
     "execution_count": 65,
     "metadata": {},
     "output_type": "execute_result"
    }
   ],
   "source": [
    "list(movies[\"title\"].iloc[movies_indices])"
   ]
  },
  {
   "cell_type": "code",
   "execution_count": 68,
   "id": "e9adef81-dac7-4ec7-9b10-c97360bd5e98",
   "metadata": {},
   "outputs": [],
   "source": [
    "def similar_movies(movie_title, nr_movies):\n",
    "    idx = movies.loc[movies[\"title\"] == movie_title].index[0]\n",
    "    scores = list(enumerate(similarity_matrix[idx]))\n",
    "    scores = sorted(scores, key=lambda x : x[1], reverse=True)\n",
    "    movies_indices = [tpl[0] for tpl in scores[1:nr_movies+1]]\n",
    "    similar_titles = list(movies[\"title\"].iloc[movies_indices])\n",
    "    return similar_titles"
   ]
  },
  {
   "cell_type": "code",
   "execution_count": 69,
   "id": "16028d6a-2051-4ca0-9d6d-810336a89ba5",
   "metadata": {},
   "outputs": [
    {
     "data": {
      "text/plain": [
       "['John Carter', 'Furious 7', 'Cars 2']"
      ]
     },
     "execution_count": 69,
     "metadata": {},
     "output_type": "execute_result"
    }
   ],
   "source": [
    "similar_movies(\"Kung Fu Panda 3\", 3)"
   ]
  },
  {
   "cell_type": "code",
   "execution_count": null,
   "id": "bbbc7e05-6b99-42e4-9616-3cfcb2eb2984",
   "metadata": {},
   "outputs": [],
   "source": []
  }
 ],
 "metadata": {
  "kernelspec": {
   "display_name": "Python 3 (ipykernel)",
   "language": "python",
   "name": "python3"
  },
  "language_info": {
   "codemirror_mode": {
    "name": "ipython",
    "version": 3
   },
   "file_extension": ".py",
   "mimetype": "text/x-python",
   "name": "python",
   "nbconvert_exporter": "python",
   "pygments_lexer": "ipython3",
   "version": "3.9.13"
  }
 },
 "nbformat": 4,
 "nbformat_minor": 5
}
